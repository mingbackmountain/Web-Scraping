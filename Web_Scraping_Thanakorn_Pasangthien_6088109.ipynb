{
  "nbformat": 4,
  "nbformat_minor": 0,
  "metadata": {
    "colab": {
      "name": "Web-Scraping-Thanakorn-Pasangthien-6088109.ipynb",
      "provenance": [],
      "toc_visible": true
    },
    "kernelspec": {
      "name": "python3",
      "display_name": "Python 3"
    }
  },
  "cells": [
    {
      "cell_type": "markdown",
      "metadata": {
        "id": "jXG-aHHmYwSi",
        "colab_type": "text"
      },
      "source": [
        "# Web Scraping using Beautiful Soup"
      ]
    },
    {
      "cell_type": "markdown",
      "metadata": {
        "id": "pB2LOU4AY4f0",
        "colab_type": "text"
      },
      "source": [
        " Importing Modules"
      ]
    },
    {
      "cell_type": "code",
      "metadata": {
        "id": "PbtarRN7Ee5y",
        "colab_type": "code",
        "outputId": "5f778ed0-183b-4b3a-dc0f-adec7a6a459d",
        "colab": {
          "base_uri": "https://localhost:8080/",
          "height": 360
        }
      },
      "source": [
        "!pip install --upgrade pip\n",
        "!pip install requests\n",
        "!pip install beautifulsoup4\n",
        "!pip install pandas"
      ],
      "execution_count": 0,
      "outputs": [
        {
          "output_type": "stream",
          "text": [
            "Collecting pip\n",
            "\u001b[?25l  Downloading https://files.pythonhosted.org/packages/54/0c/d01aa759fdc501a58f431eb594a17495f15b88da142ce14b5845662c13f3/pip-20.0.2-py2.py3-none-any.whl (1.4MB)\n",
            "\u001b[K     |████████████████████████████████| 1.4MB 1.4MB/s \n",
            "\u001b[?25hInstalling collected packages: pip\n",
            "  Found existing installation: pip 19.3.1\n",
            "    Uninstalling pip-19.3.1:\n",
            "      Successfully uninstalled pip-19.3.1\n",
            "Successfully installed pip-20.0.2\n",
            "Requirement already satisfied: requests in /usr/local/lib/python3.6/dist-packages (2.21.0)\n",
            "Requirement already satisfied: certifi>=2017.4.17 in /usr/local/lib/python3.6/dist-packages (from requests) (2019.11.28)\n",
            "Requirement already satisfied: urllib3<1.25,>=1.21.1 in /usr/local/lib/python3.6/dist-packages (from requests) (1.24.3)\n",
            "Requirement already satisfied: idna<2.9,>=2.5 in /usr/local/lib/python3.6/dist-packages (from requests) (2.8)\n",
            "Requirement already satisfied: chardet<3.1.0,>=3.0.2 in /usr/local/lib/python3.6/dist-packages (from requests) (3.0.4)\n",
            "Requirement already satisfied: beautifulsoup4 in /usr/local/lib/python3.6/dist-packages (4.6.3)\n",
            "Requirement already satisfied: pandas in /usr/local/lib/python3.6/dist-packages (1.0.3)\n",
            "Requirement already satisfied: python-dateutil>=2.6.1 in /usr/local/lib/python3.6/dist-packages (from pandas) (2.8.1)\n",
            "Requirement already satisfied: pytz>=2017.2 in /usr/local/lib/python3.6/dist-packages (from pandas) (2018.9)\n",
            "Requirement already satisfied: numpy>=1.13.3 in /usr/local/lib/python3.6/dist-packages (from pandas) (1.18.2)\n",
            "Requirement already satisfied: six>=1.5 in /usr/local/lib/python3.6/dist-packages (from python-dateutil>=2.6.1->pandas) (1.12.0)\n"
          ],
          "name": "stdout"
        }
      ]
    },
    {
      "cell_type": "code",
      "metadata": {
        "id": "0Yul-X1NZHae",
        "colab_type": "code",
        "colab": {}
      },
      "source": [
        "#Thanakorn Pasangthien 6088109\n",
        "import requests\n",
        "import bs4\n",
        "import pandas as pd\n",
        "\n",
        "#load the Movie website\n",
        "\n",
        "response = requests.get(\"https://www.imdb.com/search/title/?genres=comedy&groups=top_250&sort=user_rating,desc\")\n",
        "\n",
        "#create the soup\n",
        "soup = bs4.BeautifulSoup(response.text,\"html.parser\")\n",
        "\n",
        "#extract data that we need\n",
        "movie_name = soup.select('.lister-item-header a')\n",
        "genre = soup.select(\".text-muted .genre\")\n",
        "description = soup.select(\"div.ratings-bar ~ p.text-muted\")\n",
        "rating = soup.select(\"div.ratings-imdb-rating > strong\")\n",
        "time = soup.select('span.runtime')\n",
        "\n",
        "#clean html tag out and get only text \n",
        "def cleanData(data):\n",
        "    new_data = []\n",
        "    for i in data:\n",
        "        new_data.append(i.text)\n",
        "    return new_data\n",
        "\n",
        "#final clean data text\n",
        "clean_movie_name = cleanData(movie_name)\n",
        "clean_genre = cleanData(genre)\n",
        "clean_description = cleanData(description)\n",
        "clean_rating = cleanData(rating)\n",
        "clean_time = cleanData(time)"
      ],
      "execution_count": 0,
      "outputs": []
    },
    {
      "cell_type": "code",
      "metadata": {
        "id": "hTM0VHrFtkJK",
        "colab_type": "code",
        "colab": {}
      },
      "source": [
        "data = {\n",
        "    'Movie_name':clean_movie_name,\n",
        "    'Genre':clean_genre,\n",
        "    'Description':clean_description,\n",
        "    'Rating':clean_rating,\n",
        "    'Run_Time':clean_time\n",
        "}\n",
        "\n",
        "#create data frame from existing data\n",
        "df = pd.DataFrame(data,columns=['Movie_name','Genre','Description','Rating','Run_Time'])\n",
        "\n",
        "#write file into desired format\n",
        "df.to_csv(\"Movie_Data_Result.csv\")\n",
        "df.to_excel(\"Movie_Data_Result.xlsx\")\n",
        "df.to_json(\"Movie_Data_Result.json\")"
      ],
      "execution_count": 0,
      "outputs": []
    }
  ]
}